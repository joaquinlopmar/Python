{
 "cells": [
  {
   "cell_type": "markdown",
   "id": "0bfcf3d2",
   "metadata": {},
   "source": [
    "### Directorios "
   ]
  },
  {
   "cell_type": "code",
   "execution_count": 1,
   "id": "d7d65bcd",
   "metadata": {},
   "outputs": [],
   "source": [
    "import tkinter as tk\n",
    "from tkinter import filedialog\n",
    "import os"
   ]
  },
  {
   "cell_type": "code",
   "execution_count": 8,
   "id": "3d03bb18",
   "metadata": {},
   "outputs": [],
   "source": [
    "ventana = tk.Tk()"
   ]
  },
  {
   "cell_type": "code",
   "execution_count": 9,
   "id": "59ad272a",
   "metadata": {},
   "outputs": [],
   "source": [
    "ficheros = tk.filedialog.askopenfilenames()"
   ]
  },
  {
   "cell_type": "code",
   "execution_count": 60,
   "id": "5a017cea",
   "metadata": {},
   "outputs": [
    {
     "data": {
      "text/plain": [
       "('C:/Users/jlm55b/Downloads/WhatsApp Unknown 2024-09-26 at 12.42.46/WhatsApp Image 2024-09-25 at 20.29.46 (1).jpeg',\n",
       " 'C:/Users/jlm55b/Downloads/WhatsApp Unknown 2024-09-26 at 12.42.46/WhatsApp Image 2024-09-25 at 20.29.46 (2).jpeg',\n",
       " 'C:/Users/jlm55b/Downloads/WhatsApp Unknown 2024-09-26 at 12.42.46/WhatsApp Image 2024-09-25 at 20.29.46 (3).jpeg',\n",
       " 'C:/Users/jlm55b/Downloads/WhatsApp Unknown 2024-09-26 at 12.42.46/WhatsApp Image 2024-09-25 at 20.29.46.jpeg')"
      ]
     },
     "execution_count": 60,
     "metadata": {},
     "output_type": "execute_result"
    }
   ],
   "source": [
    "ficheros"
   ]
  },
  {
   "cell_type": "code",
   "execution_count": 61,
   "id": "d88c4a16",
   "metadata": {},
   "outputs": [],
   "source": [
    "archivos = []"
   ]
  },
  {
   "cell_type": "code",
   "execution_count": 62,
   "id": "9eaaad81",
   "metadata": {},
   "outputs": [],
   "source": [
    "for i in range(len(ficheros)):\n",
    "    archivos.append(os.path.split(ficheros[i])[1])"
   ]
  },
  {
   "cell_type": "code",
   "execution_count": 63,
   "id": "374eb4ba",
   "metadata": {},
   "outputs": [
    {
     "data": {
      "text/plain": [
       "['WhatsApp Image 2024-09-25 at 20.29.46 (1).jpeg',\n",
       " 'WhatsApp Image 2024-09-25 at 20.29.46 (2).jpeg',\n",
       " 'WhatsApp Image 2024-09-25 at 20.29.46 (3).jpeg',\n",
       " 'WhatsApp Image 2024-09-25 at 20.29.46.jpeg']"
      ]
     },
     "execution_count": 63,
     "metadata": {},
     "output_type": "execute_result"
    }
   ],
   "source": [
    "archivos"
   ]
  },
  {
   "cell_type": "code",
   "execution_count": 64,
   "id": "e12be997",
   "metadata": {},
   "outputs": [],
   "source": [
    "ventana.mainloop()"
   ]
  },
  {
   "cell_type": "code",
   "execution_count": null,
   "id": "0e4067a7",
   "metadata": {},
   "outputs": [],
   "source": []
  }
 ],
 "metadata": {
  "kernelspec": {
   "display_name": "Python 3 (ipykernel)",
   "language": "python",
   "name": "python3"
  },
  "language_info": {
   "codemirror_mode": {
    "name": "ipython",
    "version": 3
   },
   "file_extension": ".py",
   "mimetype": "text/x-python",
   "name": "python",
   "nbconvert_exporter": "python",
   "pygments_lexer": "ipython3",
   "version": "3.9.13"
  }
 },
 "nbformat": 4,
 "nbformat_minor": 5
}
